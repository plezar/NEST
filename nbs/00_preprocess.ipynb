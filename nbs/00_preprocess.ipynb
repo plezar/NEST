{
 "cells": [
  {
   "cell_type": "markdown",
   "metadata": {},
   "source": [
    "# Preprocess\n",
    "\n",
    "> Fill in a module description here"
   ]
  },
  {
   "cell_type": "code",
   "execution_count": null,
   "metadata": {},
   "outputs": [],
   "source": [
    "#| default_exp preprocess"
   ]
  },
  {
   "cell_type": "code",
   "execution_count": null,
   "metadata": {},
   "outputs": [],
   "source": [
    "#| hide\n",
    "from nbdev.showdoc import *"
   ]
  },
  {
   "cell_type": "code",
   "execution_count": null,
   "metadata": {},
   "outputs": [],
   "source": [
    "#| export\n",
    "from skimage.segmentation import find_boundaries, expand_labels\n",
    "from imageio import imwrite\n",
    "import cv2\n",
    "from typing import Tuple\n",
    "from scipy.optimize import linear_sum_assignment\n",
    "from scipy.ndimage import distance_transform_edt\n",
    "import numpy as np"
   ]
  },
  {
   "cell_type": "code",
   "execution_count": null,
   "metadata": {},
   "outputs": [],
   "source": [
    "#| export\n",
    "def clahe(\n",
    "    image: np.ndarray,\n",
    "    clip_limit: float,\n",
    "    tile_grid_size: Tuple[int, int]\n",
    ") -> np.ndarray:\n",
    "    \"\"\"\n",
    "    Apply Contrast Limited Adaptive Histogram Equalization (CLAHE) to a grayscale image.\n",
    "\n",
    "    Parameters\n",
    "    ----------\n",
    "    image : np.ndarray\n",
    "        2D array representing the input grayscale image.\n",
    "    clip_limit : float\n",
    "        Threshold for contrast limiting. Higher values result in stronger contrast enhancement.\n",
    "    tile_grid_size : tuple of int\n",
    "        Size (height, width) of the grid for histogram equalization (e.g., (8, 8)).\n",
    "\n",
    "    Returns\n",
    "    -------\n",
    "    np.ndarray\n",
    "        CLAHE-enhanced image as a 2D array.\n",
    "    \"\"\"\n",
    "    clahe = cv2.createCLAHE(\n",
    "        clipLimit=clip_limit,\n",
    "        tileGridSize=tile_grid_size\n",
    "    )\n",
    "    return clahe.apply(image)"
   ]
  }
 ],
 "metadata": {
  "kernelspec": {
   "display_name": "python3",
   "language": "python",
   "name": "python3"
  }
 },
 "nbformat": 4,
 "nbformat_minor": 4
}
